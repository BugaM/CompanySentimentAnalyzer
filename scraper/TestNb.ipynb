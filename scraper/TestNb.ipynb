{
 "cells": [
  {
   "attachments": {},
   "cell_type": "markdown",
   "metadata": {},
   "source": [
    "# Twitter Webscraper"
   ]
  },
  {
   "cell_type": "code",
   "execution_count": 1,
   "metadata": {},
   "outputs": [],
   "source": [
    "from TwitterScraper import TwitterScraper"
   ]
  },
  {
   "cell_type": "code",
   "execution_count": 2,
   "metadata": {},
   "outputs": [],
   "source": [
    "scraper = TwitterScraper()"
   ]
  },
  {
   "cell_type": "code",
   "execution_count": 3,
   "metadata": {},
   "outputs": [
    {
     "name": "stdout",
     "output_type": "stream",
     "text": [
      "NetworkPost(content='Squibiribibiri\\n:(', author=NetworkUser(username='arthurcsm', id=3041864823, display_name='o tal do Arthur (oficialmente habilitado)', join_date=datetime.datetime(2015, 2, 17, 4, 21, 28, tzinfo=datetime.timezone.utc), total_posts=4408), date=datetime.datetime(2022, 11, 1, 4, 36, 23, tzinfo=datetime.timezone.utc), source='<a href=\"http://twitter.com/download/android\" rel=\"nofollow\">Twitter for Android</a>', likes=2)\n",
      "NetworkPost(content='Squibiribibiri', author=NetworkUser(username='arthurcsm', id=3041864823, display_name='o tal do Arthur (oficialmente habilitado)', join_date=datetime.datetime(2015, 2, 17, 4, 21, 28, tzinfo=datetime.timezone.utc), total_posts=4408), date=datetime.datetime(2022, 9, 7, 7, 59, 32, tzinfo=datetime.timezone.utc), source='<a href=\"http://twitter.com/download/android\" rel=\"nofollow\">Twitter for Android</a>', likes=1)\n",
      "NetworkPost(content='Squibiri\\nbibiribibiribibiri\\nSquibiribibiri', author=NetworkUser(username='arthurcsm', id=3041864823, display_name='o tal do Arthur (oficialmente habilitado)', join_date=datetime.datetime(2015, 2, 17, 4, 21, 28, tzinfo=datetime.timezone.utc), total_posts=4408), date=datetime.datetime(2022, 8, 20, 3, 23, 25, tzinfo=datetime.timezone.utc), source='<a href=\"http://twitter.com/download/android\" rel=\"nofollow\">Twitter for Android</a>', likes=1)\n",
      "NetworkPost(content='Squibiribibiri', author=NetworkUser(username='arthurcsm', id=3041864823, display_name='o tal do Arthur (oficialmente habilitado)', join_date=datetime.datetime(2015, 2, 17, 4, 21, 28, tzinfo=datetime.timezone.utc), total_posts=4408), date=datetime.datetime(2022, 8, 7, 5, 45, 58, tzinfo=datetime.timezone.utc), source='<a href=\"https://mobile.twitter.com\" rel=\"nofollow\">Twitter Web App</a>', likes=1)\n",
      "NetworkPost(content='@squibiribibiri @vinutun @safufux kkkkkkk eugostei assim', author=NetworkUser(username='m4rc1n___', id=1151599428207357954, display_name='marcin ✧*', join_date=datetime.datetime(2019, 7, 17, 21, 7, 54, tzinfo=datetime.timezone.utc), total_posts=5542), date=datetime.datetime(2020, 10, 24, 21, 53, 24, tzinfo=datetime.timezone.utc), source='<a href=\"http://twitter.com/download/android\" rel=\"nofollow\">Twitter for Android</a>', likes=0)\n",
      "NetworkPost(content='@blwckheart_ @squibiribibiri Aaaaaa q fofinho 🥺🥺🥺', author=NetworkUser(username='ana_liviahsb', id=1172718540836757505, display_name='nalivia🐝', join_date=datetime.datetime(2019, 9, 14, 3, 48, 2, tzinfo=datetime.timezone.utc), total_posts=9953), date=datetime.datetime(2020, 10, 24, 17, 54, tzinfo=datetime.timezone.utc), source='<a href=\"http://twitter.com/download/iphone\" rel=\"nofollow\">Twitter for iPhone</a>', likes=0)\n",
      "NetworkPost(content='@squibiribibiri @vinutun @safufux fofofo', author=NetworkUser(username='m4rc1n___', id=1151599428207357954, display_name='marcin ✧*', join_date=datetime.datetime(2019, 7, 17, 21, 7, 54, tzinfo=datetime.timezone.utc), total_posts=5542), date=datetime.datetime(2020, 10, 24, 17, 47, 13, tzinfo=datetime.timezone.utc), source='<a href=\"http://twitter.com/download/android\" rel=\"nofollow\">Twitter for Android</a>', likes=0)\n",
      "NetworkPost(content='@squibiribibiri @ana_liviahsb', author=NetworkUser(username='blwckheart_', id=1228448160655212550, display_name='Gui ☀️', join_date=datetime.datetime(2020, 2, 14, 22, 37, 32, tzinfo=datetime.timezone.utc), total_posts=12745), date=datetime.datetime(2020, 10, 24, 17, 13, 34, tzinfo=datetime.timezone.utc), source='<a href=\"http://twitter.com/download/iphone\" rel=\"nofollow\">Twitter for iPhone</a>', likes=1)\n",
      "NetworkPost(content='@squibiribibiri Que fofuraaaaaaa💖', author=NetworkUser(username='vinutun', id=3429201393, display_name='Vylilianovich', join_date=datetime.datetime(2015, 8, 18, 1, 59, 23, tzinfo=datetime.timezone.utc), total_posts=5419), date=datetime.datetime(2020, 10, 24, 16, 39, 57, tzinfo=datetime.timezone.utc), source='<a href=\"http://twitter.com/download/android\" rel=\"nofollow\">Twitter for Android</a>', likes=2)\n",
      "NetworkPost(content='@squibiribibiri De graça?', author=NetworkUser(username='RuivoAlter', id=724170984, display_name='Nix', join_date=datetime.datetime(2012, 7, 29, 15, 22, 1, tzinfo=datetime.timezone.utc), total_posts=13732), date=datetime.datetime(2020, 10, 23, 14, 11, 22, tzinfo=datetime.timezone.utc), source='<a href=\"http://twitter.com/download/android\" rel=\"nofollow\">Twitter for Android</a>', likes=0)\n",
      "NetworkPost(content='@squibiribibiri Puts\\n\\nEntão eu tô com o seu OUTRO TIO legal aqui', author=NetworkUser(username='luca_chernobyl', id=269337220, display_name='Luca Albano', join_date=datetime.datetime(2011, 3, 20, 15, 32, 42, tzinfo=datetime.timezone.utc), total_posts=55801), date=datetime.datetime(2020, 10, 14, 13, 23, 18, tzinfo=datetime.timezone.utc), source='<a href=\"https://mobile.twitter.com\" rel=\"nofollow\">Twitter Web App</a>', likes=0)\n",
      "NetworkPost(content='@squibiribibiri Volte a desenhar tô com o seu tio aqui de refém', author=NetworkUser(username='luca_chernobyl', id=269337220, display_name='Luca Albano', join_date=datetime.datetime(2011, 3, 20, 15, 32, 42, tzinfo=datetime.timezone.utc), total_posts=55801), date=datetime.datetime(2020, 10, 14, 13, 21, 2, tzinfo=datetime.timezone.utc), source='<a href=\"https://mobile.twitter.com\" rel=\"nofollow\">Twitter Web App</a>', likes=0)\n",
      "NetworkPost(content='@squibiribibiri roi..', author=NetworkUser(username='m4rc1n___', id=1151599428207357954, display_name='marcin ✧*', join_date=datetime.datetime(2019, 7, 17, 21, 7, 54, tzinfo=datetime.timezone.utc), total_posts=5542), date=datetime.datetime(2020, 10, 12, 20, 4, 52, tzinfo=datetime.timezone.utc), source='<a href=\"http://twitter.com/download/android\" rel=\"nofollow\">Twitter for Android</a>', likes=0)\n",
      "NetworkPost(content='@squibiribibiri mds eu quero 🥺🥺🥺🥺🥺', author=NetworkUser(username='kaalorrane', id=1197669494312882176, display_name='lo♡ | 📖: 1984', join_date=datetime.datetime(2019, 11, 22, 0, 14, 4, tzinfo=datetime.timezone.utc), total_posts=4990), date=datetime.datetime(2020, 10, 7, 21, 28, 49, tzinfo=datetime.timezone.utc), source='<a href=\"http://twitter.com/download/android\" rel=\"nofollow\">Twitter for Android</a>', likes=1)\n",
      "NetworkPost(content='@squibiribibiri @larah_shay @statusdozap E acabou que teve visibilidade. Perdão pelo meu retardo. Mas tô rindo pra krl dessa treta kkk', author=NetworkUser(username='Ludomonster2', id=1299731813754179585, display_name='Carrasco', join_date=datetime.datetime(2020, 8, 29, 15, 33, 17, tzinfo=datetime.timezone.utc), total_posts=5415), date=datetime.datetime(2020, 10, 7, 20, 15, 39, tzinfo=datetime.timezone.utc), source='<a href=\"https://mobile.twitter.com\" rel=\"nofollow\">Twitter Web App</a>', likes=0)\n",
      "NetworkPost(content='@squibiribibiri @larah_shay @statusdozap Achei seu trampo maneiro', author=NetworkUser(username='Ludomonster2', id=1299731813754179585, display_name='Carrasco', join_date=datetime.datetime(2020, 8, 29, 15, 33, 17, tzinfo=datetime.timezone.utc), total_posts=5415), date=datetime.datetime(2020, 10, 7, 20, 14, tzinfo=datetime.timezone.utc), source='<a href=\"https://mobile.twitter.com\" rel=\"nofollow\">Twitter Web App</a>', likes=0)\n",
      "NetworkPost(content='@squibiribibiri @larah_shay @statusdozap Eu n tô me doendo, eu só comentei pra ver a treta mesmo', author=NetworkUser(username='Ludomonster2', id=1299731813754179585, display_name='Carrasco', join_date=datetime.datetime(2020, 8, 29, 15, 33, 17, tzinfo=datetime.timezone.utc), total_posts=5415), date=datetime.datetime(2020, 10, 7, 20, 13, 46, tzinfo=datetime.timezone.utc), source='<a href=\"https://mobile.twitter.com\" rel=\"nofollow\">Twitter Web App</a>', likes=0)\n",
      "NetworkPost(content='@squibiribibiri Caralho que foda man, parabéns hein fico foda dms', author=NetworkUser(username='Ramonzerahumild', id=790739243605880832, display_name='ramoncheiroso', join_date=datetime.datetime(2016, 10, 25, 2, 18, 21, tzinfo=datetime.timezone.utc), total_posts=2330), date=datetime.datetime(2020, 10, 7, 19, 31, 9, tzinfo=datetime.timezone.utc), source='<a href=\"https://mobile.twitter.com\" rel=\"nofollow\">Twitter Web App</a>', likes=0)\n",
      "NetworkPost(content='@YouAreBoiola @Ludomonster2 @squibiribibiri @statusdozap https://t.co/NEg122DvEn', author=NetworkUser(username='R0zer_', id=968625898739118087, display_name='Pombo', join_date=datetime.datetime(2018, 2, 27, 23, 16, 25, tzinfo=datetime.timezone.utc), total_posts=7225), date=datetime.datetime(2020, 10, 7, 19, 21, 16, tzinfo=datetime.timezone.utc), source='<a href=\"http://twitter.com/download/android\" rel=\"nofollow\">Twitter for Android</a>', likes=1)\n",
      "NetworkPost(content='@R0zer_ @Ludomonster2 @squibiribibiri @statusdozap Na verdade oq eu quero é isso aqui https://t.co/BxqWWkPzyR', author=NetworkUser(username='YouAreBoiola', id=1313857323920752642, display_name='Requiem', join_date=datetime.datetime(2020, 10, 7, 15, 2, 59, tzinfo=datetime.timezone.utc), total_posts=33), date=datetime.datetime(2020, 10, 7, 19, 19, 36, tzinfo=datetime.timezone.utc), source='<a href=\"http://twitter.com/download/android\" rel=\"nofollow\">Twitter for Android</a>', likes=1)\n",
      "NetworkPost(content='@YouAreBoiola @Ludomonster2 @squibiribibiri @statusdozap Quer uma droga? https://t.co/wUhMS5RB0d', author=NetworkUser(username='R0zer_', id=968625898739118087, display_name='Pombo', join_date=datetime.datetime(2018, 2, 27, 23, 16, 25, tzinfo=datetime.timezone.utc), total_posts=7225), date=datetime.datetime(2020, 10, 7, 19, 15, 2, tzinfo=datetime.timezone.utc), source='<a href=\"http://twitter.com/download/android\" rel=\"nofollow\">Twitter for Android</a>', likes=1)\n",
      "NetworkPost(content='@Ludomonster2 @squibiribibiri @statusdozap Aaaa achei mt fofinho os chaveirin', author=NetworkUser(username='PolarMeh', id=1224090301314355202, display_name='Paulo e só', join_date=datetime.datetime(2020, 2, 2, 22, 0, 54, tzinfo=datetime.timezone.utc), total_posts=748), date=datetime.datetime(2020, 10, 7, 18, 37, 50, tzinfo=datetime.timezone.utc), source='<a href=\"http://twitter.com/download/android\" rel=\"nofollow\">Twitter for Android</a>', likes=0)\n",
      "NetworkPost(content='@squibiribibiri Estou pensando em comprar um', author=NetworkUser(username='henry_cosmo', id=1278417746963968000, display_name='Henry Stickmin', join_date=datetime.datetime(2020, 7, 1, 19, 58, 48, tzinfo=datetime.timezone.utc), total_posts=2510), date=datetime.datetime(2020, 10, 7, 17, 53, 40, tzinfo=datetime.timezone.utc), source='<a href=\"http://twitter.com/download/android\" rel=\"nofollow\">Twitter for Android</a>', likes=0)\n",
      "NetworkPost(content='@squibiribibiri Menina que trabalho maravilhoso!! 🥺🥺🥺', author=NetworkUser(username='Domis_D_', id=613731543, display_name='Domis D. 🦋', join_date=datetime.datetime(2012, 6, 20, 18, 28, 40, tzinfo=datetime.timezone.utc), total_posts=17107), date=datetime.datetime(2020, 10, 7, 17, 47, 47, tzinfo=datetime.timezone.utc), source='<a href=\"http://twitter.com/download/android\" rel=\"nofollow\">Twitter for Android</a>', likes=0)\n",
      "NetworkPost(content='@ThiagZanotelli @squibiribibiri Fodasse? Não atrapalha os negócios dela', author=NetworkUser(username='henry_cosmo', id=1278417746963968000, display_name='Henry Stickmin', join_date=datetime.datetime(2020, 7, 1, 19, 58, 48, tzinfo=datetime.timezone.utc), total_posts=2510), date=datetime.datetime(2020, 10, 7, 17, 19, 48, tzinfo=datetime.timezone.utc), source='<a href=\"http://twitter.com/download/android\" rel=\"nofollow\">Twitter for Android</a>', likes=0)\n",
      "NetworkPost(content='@Ludomonster2 @squibiribibiri @statusdozap Ele só tá divulgando o trabalho dela mano', author=NetworkUser(username='Otaku70793841', id=1306402065619529728, display_name='(@)Otaku(@)', join_date=datetime.datetime(2020, 9, 17, 1, 18, 29, tzinfo=datetime.timezone.utc), total_posts=823), date=datetime.datetime(2020, 10, 7, 16, 37, 1, tzinfo=datetime.timezone.utc), source='<a href=\"https://mobile.twitter.com\" rel=\"nofollow\">Twitter Web App</a>', likes=0)\n",
      "NetworkPost(content='@larissa_pastel @Ludomonster2 @squibiribibiri @statusdozap Enfim a hiportemia', author=NetworkUser(username='bocokisf', id=2835588071, display_name='felipe verissimo', join_date=datetime.datetime(2014, 10, 17, 22, 25, 33, tzinfo=datetime.timezone.utc), total_posts=927), date=datetime.datetime(2020, 10, 7, 16, 31, 37, tzinfo=datetime.timezone.utc), source='<a href=\"http://twitter.com/download/android\" rel=\"nofollow\">Twitter for Android</a>', likes=0)\n",
      "NetworkPost(content='@cezatoris @Ludomonster2 @squibiribibiri @statusdozap https://t.co/MVK3FOD2sF', author=NetworkUser(username='YouAreBoiola', id=1313857323920752642, display_name='Requiem', join_date=datetime.datetime(2020, 10, 7, 15, 2, 59, tzinfo=datetime.timezone.utc), total_posts=33), date=datetime.datetime(2020, 10, 7, 16, 24, 57, tzinfo=datetime.timezone.utc), source='<a href=\"http://twitter.com/download/android\" rel=\"nofollow\">Twitter for Android</a>', likes=0)\n",
      "NetworkPost(content='@YouAreBoiola @Ludomonster2 @squibiribibiri @statusdozap https://t.co/0WVqJt9d98', author=NetworkUser(username='cezasccp', id=1227745662315433984, display_name='Cezar', join_date=datetime.datetime(2020, 2, 13, 0, 6, 6, tzinfo=datetime.timezone.utc), total_posts=623), date=datetime.datetime(2020, 10, 7, 16, 24, 1, tzinfo=datetime.timezone.utc), source='<a href=\"http://twitter.com/download/android\" rel=\"nofollow\">Twitter for Android</a>', likes=1)\n",
      "NetworkPost(content='@R0zer_ @Ludomonster2 @squibiribibiri @statusdozap https://t.co/org4zw4B4j', author=NetworkUser(username='YouAreBoiola', id=1313857323920752642, display_name='Requiem', join_date=datetime.datetime(2020, 10, 7, 15, 2, 59, tzinfo=datetime.timezone.utc), total_posts=33), date=datetime.datetime(2020, 10, 7, 16, 21, 51, tzinfo=datetime.timezone.utc), source='<a href=\"http://twitter.com/download/android\" rel=\"nofollow\">Twitter for Android</a>', likes=1)\n",
      "NetworkPost(content='@YouAreBoiola @Ludomonster2 @squibiribibiri @statusdozap https://t.co/rU2xoii8a8', author=NetworkUser(username='R0zer_', id=968625898739118087, display_name='Pombo', join_date=datetime.datetime(2018, 2, 27, 23, 16, 25, tzinfo=datetime.timezone.utc), total_posts=7225), date=datetime.datetime(2020, 10, 7, 16, 18, 53, tzinfo=datetime.timezone.utc), source='<a href=\"http://twitter.com/download/android\" rel=\"nofollow\">Twitter for Android</a>', likes=2)\n",
      "NetworkPost(content='@cezatoris @Ludomonster2 @squibiribibiri @statusdozap https://t.co/VEPj7FMLRf', author=NetworkUser(username='YouAreBoiola', id=1313857323920752642, display_name='Requiem', join_date=datetime.datetime(2020, 10, 7, 15, 2, 59, tzinfo=datetime.timezone.utc), total_posts=33), date=datetime.datetime(2020, 10, 7, 16, 18, 37, tzinfo=datetime.timezone.utc), source='<a href=\"http://twitter.com/download/android\" rel=\"nofollow\">Twitter for Android</a>', likes=0)\n",
      "NetworkPost(content='@R0zer_ @Ludomonster2 @squibiribibiri @statusdozap https://t.co/Z8FLSSlwrp', author=NetworkUser(username='YouAreBoiola', id=1313857323920752642, display_name='Requiem', join_date=datetime.datetime(2020, 10, 7, 15, 2, 59, tzinfo=datetime.timezone.utc), total_posts=33), date=datetime.datetime(2020, 10, 7, 16, 18, 7, tzinfo=datetime.timezone.utc), source='<a href=\"http://twitter.com/download/android\" rel=\"nofollow\">Twitter for Android</a>', likes=1)\n",
      "NetworkPost(content='@Ludomonster2 @squibiribibiri @statusdozap Incrivel como seu nome é mr simpatia e vc é realmente muito simpático', author=NetworkUser(username='cezasccp', id=1227745662315433984, display_name='Cezar', join_date=datetime.datetime(2020, 2, 13, 0, 6, 6, tzinfo=datetime.timezone.utc), total_posts=623), date=datetime.datetime(2020, 10, 7, 16, 15, 55, tzinfo=datetime.timezone.utc), source='<a href=\"http://twitter.com/download/android\" rel=\"nofollow\">Twitter for Android</a>', likes=1)\n",
      "NetworkPost(content='@squibiribibiri @Ludomonster2 @statusdozap https://t.co/RgfYo0scdz', author=NetworkUser(username='YouAreBoiola', id=1313857323920752642, display_name='Requiem', join_date=datetime.datetime(2020, 10, 7, 15, 2, 59, tzinfo=datetime.timezone.utc), total_posts=33), date=datetime.datetime(2020, 10, 7, 16, 13, 29, tzinfo=datetime.timezone.utc), source='<a href=\"http://twitter.com/download/android\" rel=\"nofollow\">Twitter for Android</a>', likes=0)\n",
      "NetworkPost(content='@squibiribibiri @statusdozap Ksdkkddk tudo vira uma discussão maluco no tt', author=NetworkUser(username='Ludomonster2', id=1299731813754179585, display_name='Carrasco', join_date=datetime.datetime(2020, 8, 29, 15, 33, 17, tzinfo=datetime.timezone.utc), total_posts=5415), date=datetime.datetime(2020, 10, 7, 16, 12, 29, tzinfo=datetime.timezone.utc), source='<a href=\"https://mobile.twitter.com\" rel=\"nofollow\">Twitter Web App</a>', likes=1)\n",
      "NetworkPost(content='@34dongsi @Ludomonster2 @squibiribibiri @statusdozap https://t.co/zwmoYFDrht', author=NetworkUser(username='YouAreBoiola', id=1313857323920752642, display_name='Requiem', join_date=datetime.datetime(2020, 10, 7, 15, 2, 59, tzinfo=datetime.timezone.utc), total_posts=33), date=datetime.datetime(2020, 10, 7, 16, 12, 4, tzinfo=datetime.timezone.utc), source='<a href=\"http://twitter.com/download/android\" rel=\"nofollow\">Twitter for Android</a>', likes=1)\n",
      "NetworkPost(content='@kiluau1 @Ludomonster2 @squibiribibiri @statusdozap https://t.co/crqkdXGxs9', author=NetworkUser(username='YouAreBoiola', id=1313857323920752642, display_name='Requiem', join_date=datetime.datetime(2020, 10, 7, 15, 2, 59, tzinfo=datetime.timezone.utc), total_posts=33), date=datetime.datetime(2020, 10, 7, 16, 11, 25, tzinfo=datetime.timezone.utc), source='<a href=\"http://twitter.com/download/android\" rel=\"nofollow\">Twitter for Android</a>', likes=0)\n",
      "NetworkPost(content='@squibiribibiri @Ludomonster2 @statusdozap Mas oq ele falou realmente faz sentido, se vc tá fazendo produtos que envolvam coisas relacionadas a Among Us, pq vc não vai divulgar o seu trabalho em algo que envolva Among Us também? É até mais provável que tenha mais gente interessada no seu produto por lá, e não aqui', author=NetworkUser(username='YouAreBoiola', id=1313857323920752642, display_name='Requiem', join_date=datetime.datetime(2020, 10, 7, 15, 2, 59, tzinfo=datetime.timezone.utc), total_posts=33), date=datetime.datetime(2020, 10, 7, 16, 10, 38, tzinfo=datetime.timezone.utc), source='<a href=\"http://twitter.com/download/android\" rel=\"nofollow\">Twitter for Android</a>', likes=1)\n",
      "NetworkPost(content='@squibiribibiri @statusdozap Isso é feito de argila? Kk', author=NetworkUser(username='Jaburu28058406', id=1235635742380081161, display_name='philxx', join_date=datetime.datetime(2020, 3, 5, 18, 38, 22, tzinfo=datetime.timezone.utc), total_posts=1202), date=datetime.datetime(2020, 10, 7, 16, 10, 8, tzinfo=datetime.timezone.utc), source='<a href=\"http://twitter.com/download/android\" rel=\"nofollow\">Twitter for Android</a>', likes=0)\n",
      "NetworkPost(content='@squibiribibiri @statusdozap ficou foda pprt', author=NetworkUser(username='joaoprosintimos', id=913579127822798848, display_name='jaozinho ruindade pura', join_date=datetime.datetime(2017, 9, 29, 1, 40, 12, tzinfo=datetime.timezone.utc), total_posts=40965), date=datetime.datetime(2020, 10, 7, 16, 9, 51, tzinfo=datetime.timezone.utc), source='<a href=\"http://twitter.com/download/android\" rel=\"nofollow\">Twitter for Android</a>', likes=0)\n",
      "NetworkPost(content='@Ludomonster2 @squibiribibiri @statusdozap https://t.co/EXn6SUuXK4', author=NetworkUser(username='R0zer_', id=968625898739118087, display_name='Pombo', join_date=datetime.datetime(2018, 2, 27, 23, 16, 25, tzinfo=datetime.timezone.utc), total_posts=7225), date=datetime.datetime(2020, 10, 7, 16, 9, 17, tzinfo=datetime.timezone.utc), source='<a href=\"http://twitter.com/download/android\" rel=\"nofollow\">Twitter for Android</a>', likes=29)\n",
      "NetworkPost(content='@squibiribibiri @statusdozap Q gracinha z', author=NetworkUser(username='LuisFer10352133', id=1221784366524833792, display_name='Luís Fern🅰️ndo⭐⭐', join_date=datetime.datetime(2020, 1, 27, 13, 17, 56, tzinfo=datetime.timezone.utc), total_posts=5881), date=datetime.datetime(2020, 10, 7, 16, 9, 7, tzinfo=datetime.timezone.utc), source='<a href=\"http://twitter.com/download/android\" rel=\"nofollow\">Twitter for Android</a>', likes=0)\n",
      "NetworkPost(content='@Ludomonster2 @squibiribibiri @statusdozap E isso que seu nome é simpatia kkkk', author=NetworkUser(username='larissa_pastel', id=1211712786020978688, display_name='Lari 💭', join_date=datetime.datetime(2019, 12, 30, 18, 17, 12, tzinfo=datetime.timezone.utc), total_posts=4759), date=datetime.datetime(2020, 10, 7, 16, 9, 6, tzinfo=datetime.timezone.utc), source='<a href=\"http://twitter.com/download/android\" rel=\"nofollow\">Twitter for Android</a>', likes=1)\n",
      "NetworkPost(content='@Ludomonster2 @squibiribibiri @statusdozap Oxi', author=NetworkUser(username='pjmsarty', id=1143252104871579654, display_name='𖥻ׁ𝐆𝐀𝐁𝐘 𔘓 ִ ۫ ּ', join_date=datetime.datetime(2019, 6, 24, 20, 18, 37, tzinfo=datetime.timezone.utc), total_posts=39863), date=datetime.datetime(2020, 10, 7, 16, 8, 53, tzinfo=datetime.timezone.utc), source='<a href=\"http://twitter.com/download/android\" rel=\"nofollow\">Twitter for Android</a>', likes=0)\n",
      "NetworkPost(content='@Ludomonster2 @squibiribibiri @statusdozap https://t.co/mOwkxgfJJz', author=NetworkUser(username='YouAreBoiola', id=1313857323920752642, display_name='Requiem', join_date=datetime.datetime(2020, 10, 7, 15, 2, 59, tzinfo=datetime.timezone.utc), total_posts=33), date=datetime.datetime(2020, 10, 7, 16, 8, 34, tzinfo=datetime.timezone.utc), source='<a href=\"http://twitter.com/download/android\" rel=\"nofollow\">Twitter for Android</a>', likes=1)\n",
      "NetworkPost(content='@Ludomonster2 @squibiribibiri @statusdozap sifude mano, deixa a garota', author=NetworkUser(username='sichenglindo', id=1309500951858950144, display_name='𝐬𝐢𝐬𝐢', join_date=datetime.datetime(2020, 9, 25, 14, 32, 26, tzinfo=datetime.timezone.utc), total_posts=1087), date=datetime.datetime(2020, 10, 7, 16, 8, 1, tzinfo=datetime.timezone.utc), source='<a href=\"http://twitter.com/download/android\" rel=\"nofollow\">Twitter for Android</a>', likes=5)\n",
      "NetworkPost(content='@Ludomonster2 @squibiribibiri @statusdozap deixa a mina menó, osh', author=NetworkUser(username='kiluau1', id=1151636676453765121, display_name='henri 🍺🍩', join_date=datetime.datetime(2019, 7, 17, 23, 35, 54, tzinfo=datetime.timezone.utc), total_posts=10517), date=datetime.datetime(2020, 10, 7, 16, 7, 33, tzinfo=datetime.timezone.utc), source='<a href=\"http://twitter.com/download/android\" rel=\"nofollow\">Twitter for Android</a>', likes=1)\n",
      "NetworkPost(content='@Ludomonster2 @squibiribibiri @statusdozap Oxi o maluco pistolou óia', author=NetworkUser(username='Deathst31195550', id=1307527045895909376, display_name='Deathstalker', join_date=datetime.datetime(2020, 9, 20, 3, 48, 45, tzinfo=datetime.timezone.utc), total_posts=100), date=datetime.datetime(2020, 10, 7, 16, 7, 26, tzinfo=datetime.timezone.utc), source='<a href=\"http://twitter.com/download/android\" rel=\"nofollow\">Twitter for Android</a>', likes=15)\n",
      "NetworkPost(content='@squibiribibiri Da?', author=NetworkUser(username='RuivoAlter', id=724170984, display_name='Nix', join_date=datetime.datetime(2012, 7, 29, 15, 22, 1, tzinfo=datetime.timezone.utc), total_posts=13732), date=datetime.datetime(2020, 10, 4, 3, 57, 46, tzinfo=datetime.timezone.utc), source='<a href=\"http://twitter.com/download/android\" rel=\"nofollow\">Twitter for Android</a>', likes=0)\n",
      "NetworkPost(content='@squibiribibiri @luca_chernobyl Parabéns 👏 muito bonito', author=NetworkUser(username='nauru_the_best', id=1295444196464238593, display_name='Nauru', join_date=datetime.datetime(2020, 8, 17, 19, 35, 50, tzinfo=datetime.timezone.utc), total_posts=68075), date=datetime.datetime(2020, 10, 4, 2, 21, 50, tzinfo=datetime.timezone.utc), source='<a href=\"http://twitter.com/download/android\" rel=\"nofollow\">Twitter for Android</a>', likes=1)\n",
      "NetworkPost(content='@squibiribibiri manda isso aqui pra ela\\n\\noh vai toma no teu cu em maluco vai toma no teu cu em o filha da puta vai te fude em vai se fude em vai pra casa do caralho em eu te conheço nessa porra? eu sei quem tu eh nessa porra? eu sei onde tu mora nessa porra? tu ja me falo comigo nessa porra?', author=NetworkUser(username='luca_chernobyl', id=269337220, display_name='Luca Albano', join_date=datetime.datetime(2011, 3, 20, 15, 32, 42, tzinfo=datetime.timezone.utc), total_posts=55801), date=datetime.datetime(2020, 10, 4, 1, 26, 26, tzinfo=datetime.timezone.utc), source='<a href=\"https://mobile.twitter.com\" rel=\"nofollow\">Twitter Web App</a>', likes=0)\n",
      "NetworkPost(content='@squibiribibiri me destruiu tem nem o que falar mais.......', author=NetworkUser(username='luca_chernobyl', id=269337220, display_name='Luca Albano', join_date=datetime.datetime(2011, 3, 20, 15, 32, 42, tzinfo=datetime.timezone.utc), total_posts=55801), date=datetime.datetime(2020, 10, 4, 0, 25, 19, tzinfo=datetime.timezone.utc), source='<a href=\"https://mobile.twitter.com\" rel=\"nofollow\">Twitter Web App</a>', likes=0)\n",
      "NetworkPost(content='@squibiribibiri Parece que fui refutado', author=NetworkUser(username='luca_chernobyl', id=269337220, display_name='Luca Albano', join_date=datetime.datetime(2011, 3, 20, 15, 32, 42, tzinfo=datetime.timezone.utc), total_posts=55801), date=datetime.datetime(2020, 10, 3, 18, 45, 10, tzinfo=datetime.timezone.utc), source='<a href=\"https://mobile.twitter.com\" rel=\"nofollow\">Twitter Web App</a>', likes=0)\n",
      "NetworkPost(content='@squibiribibiri Guei', author=NetworkUser(username='luca_chernobyl', id=269337220, display_name='Luca Albano', join_date=datetime.datetime(2011, 3, 20, 15, 32, 42, tzinfo=datetime.timezone.utc), total_posts=55801), date=datetime.datetime(2020, 10, 3, 18, 43, 3, tzinfo=datetime.timezone.utc), source='<a href=\"https://mobile.twitter.com\" rel=\"nofollow\">Twitter Web App</a>', likes=0)\n",
      "NetworkPost(content='@brunomorta @squibiribibiri sempreee é ele!!', author=NetworkUser(username='vitoriavdovale', id=1106165989236977665, display_name='vi 🐠', join_date=datetime.datetime(2019, 3, 14, 12, 11, 38, tzinfo=datetime.timezone.utc), total_posts=3396), date=datetime.datetime(2020, 10, 2, 12, 45, tzinfo=datetime.timezone.utc), source='<a href=\"http://twitter.com/download/iphone\" rel=\"nofollow\">Twitter for iPhone</a>', likes=1)\n",
      "NetworkPost(content='@squibiribibiri twitter é um coco mole com vídeo mesmo', author=NetworkUser(username='luca_chernobyl', id=269337220, display_name='Luca Albano', join_date=datetime.datetime(2011, 3, 20, 15, 32, 42, tzinfo=datetime.timezone.utc), total_posts=55801), date=datetime.datetime(2020, 10, 2, 0, 26, 52, tzinfo=datetime.timezone.utc), source='<a href=\"https://mobile.twitter.com\" rel=\"nofollow\">Twitter Web App</a>', likes=0)\n",
      "NetworkPost(content='@squibiribibiri carai fi', author=NetworkUser(username='luca_chernobyl', id=269337220, display_name='Luca Albano', join_date=datetime.datetime(2011, 3, 20, 15, 32, 42, tzinfo=datetime.timezone.utc), total_posts=55801), date=datetime.datetime(2020, 10, 2, 0, 16, 42, tzinfo=datetime.timezone.utc), source='<a href=\"https://mobile.twitter.com\" rel=\"nofollow\">Twitter Web App</a>', likes=0)\n",
      "NetworkPost(content='@squibiribibiri Para ti 🌹', author=NetworkUser(username='luca_chernobyl', id=269337220, display_name='Luca Albano', join_date=datetime.datetime(2011, 3, 20, 15, 32, 42, tzinfo=datetime.timezone.utc), total_posts=55801), date=datetime.datetime(2020, 9, 30, 17, 8, 19, tzinfo=datetime.timezone.utc), source='<a href=\"https://mobile.twitter.com\" rel=\"nofollow\">Twitter Web App</a>', likes=0)\n",
      "NetworkPost(content='@squibiribibiri Mas mano wtf\\n\\nKSKASKAKSKSK', author=NetworkUser(username='luca_chernobyl', id=269337220, display_name='Luca Albano', join_date=datetime.datetime(2011, 3, 20, 15, 32, 42, tzinfo=datetime.timezone.utc), total_posts=55801), date=datetime.datetime(2020, 9, 29, 20, 27, 6, tzinfo=datetime.timezone.utc), source='<a href=\"https://mobile.twitter.com\" rel=\"nofollow\">Twitter Web App</a>', likes=0)\n",
      "NetworkPost(content='@squibiribibiri Que', author=NetworkUser(username='luca_chernobyl', id=269337220, display_name='Luca Albano', join_date=datetime.datetime(2011, 3, 20, 15, 32, 42, tzinfo=datetime.timezone.utc), total_posts=55801), date=datetime.datetime(2020, 9, 29, 19, 3, 44, tzinfo=datetime.timezone.utc), source='<a href=\"https://mobile.twitter.com\" rel=\"nofollow\">Twitter Web App</a>', likes=0)\n",
      "NetworkPost(content='@squibiribibiri @gwsmercy @MasD2414 @cruelsunmer vc é latina amiga', author=NetworkUser(username='ahnaonanda', id=1164020004519587841, display_name='nanda', join_date=datetime.datetime(2019, 8, 21, 3, 42, 59, tzinfo=datetime.timezone.utc), total_posts=3605), date=datetime.datetime(2020, 9, 29, 13, 13, 58, tzinfo=datetime.timezone.utc), source='<a href=\"http://twitter.com/download/iphone\" rel=\"nofollow\">Twitter for iPhone</a>', likes=0)\n",
      "NetworkPost(content='@squibiribibiri A garota perfeita não exis...', author=NetworkUser(username='ViihBertoni', id=1205707407495778310, display_name='Menina Leblon', join_date=datetime.datetime(2019, 12, 14, 4, 33, 52, tzinfo=datetime.timezone.utc), total_posts=3306), date=datetime.datetime(2020, 9, 29, 4, 4, 10, tzinfo=datetime.timezone.utc), source='<a href=\"http://twitter.com/download/android\" rel=\"nofollow\">Twitter for Android</a>', likes=0)\n",
      "NetworkPost(content='@squibiribibiri Manda toma no cu', author=NetworkUser(username='luca_chernobyl', id=269337220, display_name='Luca Albano', join_date=datetime.datetime(2011, 3, 20, 15, 32, 42, tzinfo=datetime.timezone.utc), total_posts=55801), date=datetime.datetime(2020, 9, 25, 17, 12, 29, tzinfo=datetime.timezone.utc), source='<a href=\"https://mobile.twitter.com\" rel=\"nofollow\">Twitter Web App</a>', likes=0)\n",
      "NetworkPost(content='@squibiribibiri obrigadaa ☺️, mas confesso que fico pensando num siliconezinho..', author=NetworkUser(username='vitoriavdovale', id=1106165989236977665, display_name='vi 🐠', join_date=datetime.datetime(2019, 3, 14, 12, 11, 38, tzinfo=datetime.timezone.utc), total_posts=3396), date=datetime.datetime(2020, 9, 25, 11, 57, 56, tzinfo=datetime.timezone.utc), source='<a href=\"http://twitter.com/download/iphone\" rel=\"nofollow\">Twitter for iPhone</a>', likes=0)\n",
      "NetworkPost(content='@squibiribibiri Explana o fodido', author=NetworkUser(username='RuivoAlter', id=724170984, display_name='Nix', join_date=datetime.datetime(2012, 7, 29, 15, 22, 1, tzinfo=datetime.timezone.utc), total_posts=13732), date=datetime.datetime(2020, 9, 25, 11, 53, 59, tzinfo=datetime.timezone.utc), source='<a href=\"http://twitter.com/download/android\" rel=\"nofollow\">Twitter for Android</a>', likes=0)\n",
      "NetworkPost(content='@squibiribibiri Contexto?', author=NetworkUser(username='_Willzera_', id=929331358803070981, display_name='DANTE', join_date=datetime.datetime(2017, 11, 11, 12, 53, 56, tzinfo=datetime.timezone.utc), total_posts=863), date=datetime.datetime(2020, 9, 23, 23, 38, 23, tzinfo=datetime.timezone.utc), source='<a href=\"http://twitter.com/download/android\" rel=\"nofollow\">Twitter for Android</a>', likes=0)\n",
      "NetworkPost(content='@squibiribibiri Passa o zap então 😳😳😳 https://t.co/NfL6rq7U4a', author=NetworkUser(username='GuyJop', id=1247007895381782541, display_name='AV.AV.AV.AV.AV', join_date=datetime.datetime(2020, 4, 6, 3, 48, 13, tzinfo=datetime.timezone.utc), total_posts=1393), date=datetime.datetime(2020, 9, 23, 21, 51, 32, tzinfo=datetime.timezone.utc), source='<a href=\"http://twitter.com/download/android\" rel=\"nofollow\">Twitter for Android</a>', likes=0)\n",
      "NetworkPost(content='@squibiribibiri Ui ui, só chove?', author=NetworkUser(username='luca_chernobyl', id=269337220, display_name='Luca Albano', join_date=datetime.datetime(2011, 3, 20, 15, 32, 42, tzinfo=datetime.timezone.utc), total_posts=55801), date=datetime.datetime(2020, 9, 22, 0, 21, 14, tzinfo=datetime.timezone.utc), source='<a href=\"https://mobile.twitter.com\" rel=\"nofollow\">Twitter Web App</a>', likes=0)\n",
      "NetworkPost(content='@squibiribibiri Só não vou comentar nada pq tô bêbado', author=NetworkUser(username='RuivoAlter', id=724170984, display_name='Nix', join_date=datetime.datetime(2012, 7, 29, 15, 22, 1, tzinfo=datetime.timezone.utc), total_posts=13732), date=datetime.datetime(2020, 9, 20, 0, 53, 17, tzinfo=datetime.timezone.utc), source='<a href=\"http://twitter.com/download/android\" rel=\"nofollow\">Twitter for Android</a>', likes=0)\n",
      "NetworkPost(content='@squibiribibiri Cê já pensou em escrever um livro sobre isso?\\n\\nVelho, tem historia', author=NetworkUser(username='RuivoAlter', id=724170984, display_name='Nix', join_date=datetime.datetime(2012, 7, 29, 15, 22, 1, tzinfo=datetime.timezone.utc), total_posts=13732), date=datetime.datetime(2020, 9, 15, 3, 11, 53, tzinfo=datetime.timezone.utc), source='<a href=\"http://twitter.com/download/android\" rel=\"nofollow\">Twitter for Android</a>', likes=0)\n",
      "NetworkPost(content='@squibiribibiri mano só por curiosidade, é tudo o mesmo maluco? porque meu deus mano porque carai dpkasdkap muito cuzao mano', author=NetworkUser(username='luca_chernobyl', id=269337220, display_name='Luca Albano', join_date=datetime.datetime(2011, 3, 20, 15, 32, 42, tzinfo=datetime.timezone.utc), total_posts=55801), date=datetime.datetime(2020, 9, 15, 2, 59, 35, tzinfo=datetime.timezone.utc), source='<a href=\"https://mobile.twitter.com\" rel=\"nofollow\">Twitter Web App</a>', likes=0)\n"
     ]
    }
   ],
   "source": [
    "# Testing the query search function\n",
    "squib_quer = scraper.search_query('squibiribibiri')"
   ]
  },
  {
   "cell_type": "code",
   "execution_count": 4,
   "metadata": {},
   "outputs": [
    {
     "name": "stdout",
     "output_type": "stream",
     "text": [
      "NetworkPost(content='Squibiribibiri\\n:(', author=NetworkUser(username='arthurcsm', id=3041864823, display_name='o tal do Arthur (oficialmente habilitado)', join_date=datetime.datetime(2015, 2, 17, 4, 21, 28, tzinfo=datetime.timezone.utc), total_posts=4408), date=datetime.datetime(2022, 11, 1, 4, 36, 23, tzinfo=datetime.timezone.utc), source='<a href=\"http://twitter.com/download/android\" rel=\"nofollow\">Twitter for Android</a>', likes=2)\n"
     ]
    }
   ],
   "source": [
    "print(squib_quer[0])"
   ]
  },
  {
   "cell_type": "code",
   "execution_count": 8,
   "metadata": {},
   "outputs": [
    {
     "data": {
      "text/plain": [
       "'Android'"
      ]
     },
     "execution_count": 8,
     "metadata": {},
     "output_type": "execute_result"
    }
   ],
   "source": [
    "squib_quer[0].source"
   ]
  },
  {
   "cell_type": "markdown",
   "metadata": {},
   "source": [
    "---"
   ]
  },
  {
   "cell_type": "markdown",
   "metadata": {},
   "source": [
    "# Tests"
   ]
  },
  {
   "cell_type": "code",
   "execution_count": 1,
   "metadata": {},
   "outputs": [],
   "source": [
    "import snscrape.modules.twitter as sntwitter"
   ]
  },
  {
   "cell_type": "code",
   "execution_count": 2,
   "metadata": {},
   "outputs": [
    {
     "data": {
      "text/plain": [
       "User(username='arthurcsm', id=3041864823, displayname='o tal do Arthur (oficialmente habilitado)', rawDescription='PHD em ter azar na vida', renderedDescription='PHD em ter azar na vida', descriptionLinks=[], verified=False, created=datetime.datetime(2015, 2, 17, 4, 21, 28, tzinfo=datetime.timezone.utc), followersCount=101, friendsCount=265, statusesCount=4408, favouritesCount=7264, listedCount=0, mediaCount=227, location='São José dos Campos, Brasil', protected=False, link=None, profileImageUrl='https://pbs.twimg.com/profile_images/1635095842217492484/c22b8ngC_normal.jpg', profileBannerUrl='https://pbs.twimg.com/profile_banners/3041864823/1641680994', label=None)"
      ]
     },
     "execution_count": 2,
     "metadata": {},
     "output_type": "execute_result"
    }
   ],
   "source": [
    "sntwitter.TwitterUserScraper(\"arthurcsm\")._get_entity()"
   ]
  },
  {
   "cell_type": "code",
   "execution_count": 3,
   "metadata": {},
   "outputs": [],
   "source": [
    "scraped = sntwitter.TwitterSearchScraper('squibiribibiri').get_items()"
   ]
  },
  {
   "cell_type": "code",
   "execution_count": 4,
   "metadata": {},
   "outputs": [],
   "source": [
    "k = next(scraped)"
   ]
  },
  {
   "cell_type": "code",
   "execution_count": 5,
   "metadata": {},
   "outputs": [
    {
     "name": "stdout",
     "output_type": "stream",
     "text": [
      "Squibiribibiri\n",
      ":(\n"
     ]
    }
   ],
   "source": [
    "print(k.rawContent)"
   ]
  },
  {
   "cell_type": "code",
   "execution_count": 6,
   "metadata": {},
   "outputs": [
    {
     "name": "stdout",
     "output_type": "stream",
     "text": [
      "2022-11-01 04:36:23+00:00\n"
     ]
    }
   ],
   "source": [
    "print(k.date)"
   ]
  },
  {
   "attachments": {},
   "cell_type": "markdown",
   "metadata": {},
   "source": [
    "## Datetime Parser"
   ]
  },
  {
   "cell_type": "code",
   "execution_count": 7,
   "metadata": {},
   "outputs": [
    {
     "data": {
      "text/plain": [
       "datetime.datetime"
      ]
     },
     "execution_count": 7,
     "metadata": {},
     "output_type": "execute_result"
    }
   ],
   "source": [
    "from datetime import datetime\n",
    "date = datetime.now()\n",
    "type(date)\n",
    "\n",
    "# We want the following format for our dates:\n",
    "# 2015-02-13"
   ]
  },
  {
   "cell_type": "code",
   "execution_count": 8,
   "metadata": {},
   "outputs": [
    {
     "data": {
      "text/plain": [
       "'2023-04-06'"
      ]
     },
     "execution_count": 8,
     "metadata": {},
     "output_type": "execute_result"
    }
   ],
   "source": [
    "# This works, but will break once we reach the year 10000\n",
    "# Python probably won't exist by then, though\n",
    "date.isoformat()[0:10]"
   ]
  },
  {
   "cell_type": "code",
   "execution_count": 9,
   "metadata": {},
   "outputs": [
    {
     "data": {
      "text/plain": [
       "False"
      ]
     },
     "execution_count": 9,
     "metadata": {},
     "output_type": "execute_result"
    }
   ],
   "source": [
    "# Can datetimes be compared ?\n",
    "start = datetime.fromisoformat('2006-06-12')\n",
    "end = datetime.fromisoformat('2022-08-07')\n",
    "\n",
    "start > end"
   ]
  },
  {
   "attachments": {},
   "cell_type": "markdown",
   "metadata": {},
   "source": [
    "Now, testing the new `timed_search()` function for the scraper."
   ]
  },
  {
   "cell_type": "code",
   "execution_count": 10,
   "metadata": {},
   "outputs": [],
   "source": [
    "from TwitterScraper import TwitterScraper\n",
    "scraper = TwitterScraper()\n",
    "\n",
    "start = datetime.fromisoformat('2006-06-12')\n",
    "end = datetime.fromisoformat('2022-08-07')"
   ]
  },
  {
   "cell_type": "code",
   "execution_count": 11,
   "metadata": {},
   "outputs": [
    {
     "name": "stdout",
     "output_type": "stream",
     "text": [
      "Searching with query:\n",
      "scatman john until:2022-08-07 since:2006-06-12\n"
     ]
    }
   ],
   "source": [
    "ts = scraper.timed_search('scatman john', start, end)"
   ]
  },
  {
   "cell_type": "code",
   "execution_count": 14,
   "metadata": {},
   "outputs": [
    {
     "name": "stdout",
     "output_type": "stream",
     "text": [
      "NetworkPost(content='Agora na Melody 94.1: SCATMAN JOHN - THE SCATMAN', author=NetworkUser(username='agoranamelodyfm', id=783053485357010945, display_name='Agora na Melody', join_date=datetime.datetime(2016, 10, 3, 21, 17, 54, tzinfo=datetime.timezone.utc), total_posts=434015), date=datetime.datetime(2022, 8, 6, 22, 40, 7, tzinfo=datetime.timezone.utc), source='Experience', likes=0)\n",
      "501\n"
     ]
    }
   ],
   "source": [
    "print(ts[0])\n",
    "print(len(ts))"
   ]
  },
  {
   "attachments": {},
   "cell_type": "markdown",
   "metadata": {},
   "source": [
    "## User Posts Fetch"
   ]
  },
  {
   "cell_type": "code",
   "execution_count": 2,
   "metadata": {},
   "outputs": [],
   "source": [
    "from TwitterScraper import TwitterScraper\n",
    "scraper = TwitterScraper(500)"
   ]
  },
  {
   "cell_type": "code",
   "execution_count": 3,
   "metadata": {},
   "outputs": [],
   "source": [
    "posts = scraper.get_user_posts('arthurcsm')"
   ]
  },
  {
   "cell_type": "code",
   "execution_count": 6,
   "metadata": {},
   "outputs": [
    {
     "data": {
      "text/plain": [
       "NetworkPost(content='Melhor ainda se tiver um cafezinho pra tomar', author=NetworkUser(username='arthurcsm', id=3041864823, display_name='o tal do Arthur (oficialmente habilitado)', join_date=datetime.datetime(2015, 2, 17, 4, 21, 28, tzinfo=datetime.timezone.utc), total_posts=4408), date=datetime.datetime(2023, 4, 4, 1, 13, 2, tzinfo=datetime.timezone.utc), source='App', likes=0)"
      ]
     },
     "execution_count": 6,
     "metadata": {},
     "output_type": "execute_result"
    }
   ],
   "source": [
    "posts[0]"
   ]
  },
  {
   "cell_type": "code",
   "execution_count": null,
   "metadata": {},
   "outputs": [],
   "source": []
  }
 ],
 "metadata": {
  "kernelspec": {
   "display_name": "scraper",
   "language": "python",
   "name": "python3"
  },
  "language_info": {
   "codemirror_mode": {
    "name": "ipython",
    "version": 3
   },
   "file_extension": ".py",
   "mimetype": "text/x-python",
   "name": "python",
   "nbconvert_exporter": "python",
   "pygments_lexer": "ipython3",
   "version": "3.9.6"
  },
  "orig_nbformat": 4
 },
 "nbformat": 4,
 "nbformat_minor": 2
}
